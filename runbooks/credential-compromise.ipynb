{
 "cells": [
  {
   "cell_type": "markdown",
   "id": "394caeb2",
   "metadata": {},
   "source": [
    "# Only use this if you are using SSO to authenticate the notebook\n",
    "from jupyterirtools import jupyterauth, athena# AWS IAM Credential Compromise Runbook \n",
    "This notebook is to be used in case of malicious activity inside your AWS Account.\n",
    "We will query CloudTrail logs using Athena in order to detect and contain malicious account activity.\n",
    "\n",
    "We are following best practices from the AWS Incident Response guide as we execute our processes:\n",
    "\n",
    "https://docs.aws.amazon.com/whitepapers/latest/aws-security-incident-response-guide/aws-security-incident-response-guide.html"
   ]
  },
  {
   "cell_type": "code",
   "execution_count": 1,
   "id": "188c0c8c-b53e-4f91-8699-9d74c4ddec90",
   "metadata": {
    "tags": []
   },
   "outputs": [
    {
     "name": "stdout",
     "output_type": "stream",
     "text": [
      "AUTHTYPE: SSO\n",
      "Logging in with IAM Identity Center....\n",
      "Current cached SSO login is expired or invalid\n",
      "Fetching credentials again\n"
     ]
    },
    {
     "data": {
      "text/markdown": [
       "If the login window doesn't automatically open, click to [activate the session](https://device.sso.us-east-1.amazonaws.com/?user_code=XVPT-MGQS)"
      ],
      "text/plain": [
       "<IPython.core.display.Markdown object>"
      ]
     },
     "metadata": {},
     "output_type": "display_data"
    },
    {
     "data": {
      "application/javascript": [
       "window.open('https://device.sso.us-east-1.amazonaws.com/?user_code=XVPT-MGQS')"
      ],
      "text/plain": [
       "<IPython.core.display.Javascript object>"
      ]
     },
     "metadata": {},
     "output_type": "display_data"
    },
    {
     "name": "stdout",
     "output_type": "stream",
     "text": [
      "Waiting for login...\n",
      "Waiting for login...\n"
     ]
    },
    {
     "data": {
      "text/markdown": [
       "Credentials expire in 7 hours and 59 minutes"
      ],
      "text/plain": [
       "<IPython.core.display.Markdown object>"
      ]
     },
     "metadata": {},
     "output_type": "display_data"
    },
    {
     "name": "stdout",
     "output_type": "stream",
     "text": [
      "Login Successful\n"
     ]
    }
   ],
   "source": [
    "# Only use this if you are using SSO to authenticate the notebook\n",
    "from jupyterirtools import jupyterauth, athena"
   ]
  },
  {
   "cell_type": "markdown",
   "id": "6a9f5f5a",
   "metadata": {
    "tags": []
   },
   "source": [
    "# Setup"
   ]
  },
  {
   "cell_type": "markdown",
   "id": "e3c4bf4d",
   "metadata": {},
   "source": [
    "## Load Libraries\n",
    "\n",
    "In order to query CloudTrail and interact with AWS, we need to load several libraries and configure our environment."
   ]
  },
  {
   "cell_type": "code",
   "execution_count": 2,
   "id": "ad09e1c1",
   "metadata": {
    "tags": []
   },
   "outputs": [
    {
     "name": "stdout",
     "output_type": "stream",
     "text": [
      "Note: you may need to restart the kernel to use updated packages.\n"
     ]
    }
   ],
   "source": [
    "pip install pyathena --quiet"
   ]
  },
  {
   "cell_type": "code",
   "execution_count": 4,
   "id": "03d4fcfd-2c17-4672-a63d-84c404ca2f7f",
   "metadata": {
    "tags": []
   },
   "outputs": [
    {
     "name": "stdout",
     "output_type": "stream",
     "text": [
      "UserId: AROA5JG7RPQDUWWUJC2OU:sso_user\n",
      "Account: 913149361159\n",
      "Account: arn:aws:sts::913149361159:assumed-role/AWSReservedSSO_Jupyter-IR-AdministratorAccess_df88cdf87a059be8/sso_user\n",
      "\n"
     ]
    }
   ],
   "source": [
    "import boto3 \n",
    "boto3.setup_default_session()\n",
    "sts = boto3.client('sts')\n",
    "identity = sts.get_caller_identity()\n",
    "print(f\"UserId: {identity['UserId']}\\nAccount: {identity['Account']}\\nAccount: {identity['Arn']}\\n\")"
   ]
  },
  {
   "cell_type": "code",
   "execution_count": 5,
   "id": "89920512",
   "metadata": {
    "tags": []
   },
   "outputs": [],
   "source": [
    "import boto3  # the Python SDK for AWS\n",
    "import pandas as pd # Pandas is a data analysis tool for Python\n",
    "from pyathena import connect # Python API client for Amazon Athena\n",
    "region='us-east-1' # Set region variable to us-east-1 for API commands\n",
    "athena_bucket = 's3://aws-athena-query-results-us-east-1-913149361159/'  # S3 bucket that is configured to store your Athena queries"
   ]
  },
  {
   "cell_type": "markdown",
   "id": "b9c04dd5",
   "metadata": {},
   "source": [
    "## 1. Set up Athena"
   ]
  },
  {
   "cell_type": "markdown",
   "id": "949fb7ec",
   "metadata": {},
   "source": [
    "### 1.1 Function to Create Tables for Queries"
   ]
  },
  {
   "cell_type": "code",
   "execution_count": 6,
   "id": "9173ba28",
   "metadata": {
    "tags": []
   },
   "outputs": [],
   "source": [
    "def query_results(sql):\n",
    "    \n",
    "    cursor = connect(s3_staging_dir=athena_bucket, region_name=region).cursor()\n",
    "    cursor.execute(sql)\n",
    "    \n",
    "    columns = cursor.description\n",
    "    data = cursor.fetchall()\n",
    "\n",
    "    column_names = [column[0] for column in columns]\n",
    "    rows = [dict(zip(column_names, data_row)) for data_row in data]\n",
    "\n",
    "    df = pd.DataFrame(rows, columns=column_names)\n",
    "    df1 = df.style.set_table_styles([dict(selector='th', props=[('text-align', 'center')])])\n",
    "    \n",
    "    return df1.set_properties(**{'text-align': 'center'})"
   ]
  },
  {
   "cell_type": "markdown",
   "id": "73c76c04",
   "metadata": {},
   "source": [
    "# 2.0 IAM Investigation"
   ]
  },
  {
   "cell_type": "markdown",
   "id": "7a9956cf",
   "metadata": {},
   "source": [
    "### 2.1 Investigating Authorization Failures\n",
    "Lists failed access attempts with additional information such as the user identity ARN, time, AWS service, API call, region, source IP address, error code, and error message."
   ]
  },
  {
   "cell_type": "code",
   "execution_count": 9,
   "id": "4c944a62",
   "metadata": {
    "tags": []
   },
   "outputs": [],
   "source": [
    "auth_fail =\"\"\"\n",
    "\n",
    "select *\n",
    "from \"security_analysis\".\"cloudtrail\" \n",
    "where errorCode in \n",
    "('Client.UnauthorizedOperation','Client.InvalidPermission.NotFound','Client.OperationNotPermitted','AccessDenied')\n",
    "and useridentity.arn like '%iam%'\n",
    "order by eventTime desc\n",
    "limit 5\n",
    "\n",
    "\"\"\""
   ]
  },
  {
   "cell_type": "code",
   "execution_count": 12,
   "id": "9a009068-820e-40ab-a495-5543e46490b0",
   "metadata": {
    "tags": []
   },
   "outputs": [
    {
     "name": "stdout",
     "output_type": "stream",
     "text": [
      "\n",
      "\n",
      "select *\n",
      "from \"security_analysis\".\"cloudtrail\" \n",
      "where errorCode in \n",
      "('Client.UnauthorizedOperation','Client.InvalidPermission.NotFound','Client.OperationNotPermitted','AccessDenied')\n",
      "and useridentity.arn like '%iam%'\n",
      "order by eventTime desc\n",
      "limit 5\n",
      "\n",
      "\n"
     ]
    },
    {
     "data": {
      "text/html": [
       "<div>\n",
       "<style scoped>\n",
       "    .dataframe tbody tr th:only-of-type {\n",
       "        vertical-align: middle;\n",
       "    }\n",
       "\n",
       "    .dataframe tbody tr th {\n",
       "        vertical-align: top;\n",
       "    }\n",
       "\n",
       "    .dataframe thead th {\n",
       "        text-align: right;\n",
       "    }\n",
       "</style>\n",
       "<table border=\"1\" class=\"dataframe\">\n",
       "  <thead>\n",
       "    <tr style=\"text-align: right;\">\n",
       "      <th></th>\n",
       "    </tr>\n",
       "  </thead>\n",
       "  <tbody>\n",
       "  </tbody>\n",
       "</table>\n",
       "</div>"
      ],
      "text/plain": [
       "Empty DataFrame\n",
       "Columns: []\n",
       "Index: []"
      ]
     },
     "execution_count": 12,
     "metadata": {},
     "output_type": "execute_result"
    }
   ],
   "source": [
    "df, sql = athena.run_query_sql(auth_fail)\n",
    "print(sql)\n",
    "df"
   ]
  },
  {
   "cell_type": "code",
   "execution_count": 13,
   "id": "82dc51d3",
   "metadata": {
    "tags": []
   },
   "outputs": [
    {
     "data": {
      "text/html": [
       "<style type=\"text/css\">\n",
       "#T_152f7 th {\n",
       "  text-align: center;\n",
       "}\n",
       "</style>\n",
       "<table id=\"T_152f7\">\n",
       "  <thead>\n",
       "    <tr>\n",
       "      <th class=\"blank level0\" >&nbsp;</th>\n",
       "      <th id=\"T_152f7_level0_col0\" class=\"col_heading level0 col0\" >eventversion</th>\n",
       "      <th id=\"T_152f7_level0_col1\" class=\"col_heading level0 col1\" >useridentity</th>\n",
       "      <th id=\"T_152f7_level0_col2\" class=\"col_heading level0 col2\" >eventtime</th>\n",
       "      <th id=\"T_152f7_level0_col3\" class=\"col_heading level0 col3\" >eventsource</th>\n",
       "      <th id=\"T_152f7_level0_col4\" class=\"col_heading level0 col4\" >eventname</th>\n",
       "      <th id=\"T_152f7_level0_col5\" class=\"col_heading level0 col5\" >awsregion</th>\n",
       "      <th id=\"T_152f7_level0_col6\" class=\"col_heading level0 col6\" >sourceipaddress</th>\n",
       "      <th id=\"T_152f7_level0_col7\" class=\"col_heading level0 col7\" >useragent</th>\n",
       "      <th id=\"T_152f7_level0_col8\" class=\"col_heading level0 col8\" >errorcode</th>\n",
       "      <th id=\"T_152f7_level0_col9\" class=\"col_heading level0 col9\" >errormessage</th>\n",
       "      <th id=\"T_152f7_level0_col10\" class=\"col_heading level0 col10\" >requestparameters</th>\n",
       "      <th id=\"T_152f7_level0_col11\" class=\"col_heading level0 col11\" >responseelements</th>\n",
       "      <th id=\"T_152f7_level0_col12\" class=\"col_heading level0 col12\" >additionaleventdata</th>\n",
       "      <th id=\"T_152f7_level0_col13\" class=\"col_heading level0 col13\" >requestid</th>\n",
       "      <th id=\"T_152f7_level0_col14\" class=\"col_heading level0 col14\" >eventid</th>\n",
       "      <th id=\"T_152f7_level0_col15\" class=\"col_heading level0 col15\" >resources</th>\n",
       "      <th id=\"T_152f7_level0_col16\" class=\"col_heading level0 col16\" >eventtype</th>\n",
       "      <th id=\"T_152f7_level0_col17\" class=\"col_heading level0 col17\" >apiversion</th>\n",
       "      <th id=\"T_152f7_level0_col18\" class=\"col_heading level0 col18\" >readonly</th>\n",
       "      <th id=\"T_152f7_level0_col19\" class=\"col_heading level0 col19\" >recipientaccountid</th>\n",
       "      <th id=\"T_152f7_level0_col20\" class=\"col_heading level0 col20\" >serviceeventdetails</th>\n",
       "      <th id=\"T_152f7_level0_col21\" class=\"col_heading level0 col21\" >sharedeventid</th>\n",
       "      <th id=\"T_152f7_level0_col22\" class=\"col_heading level0 col22\" >vpcendpointid</th>\n",
       "      <th id=\"T_152f7_level0_col23\" class=\"col_heading level0 col23\" >date_partition</th>\n",
       "      <th id=\"T_152f7_level0_col24\" class=\"col_heading level0 col24\" >region_partition</th>\n",
       "      <th id=\"T_152f7_level0_col25\" class=\"col_heading level0 col25\" >account_partition</th>\n",
       "    </tr>\n",
       "  </thead>\n",
       "  <tbody>\n",
       "  </tbody>\n",
       "</table>\n"
      ],
      "text/plain": [
       "<pandas.io.formats.style.Styler at 0x7f94f28a29e0>"
      ]
     },
     "execution_count": 13,
     "metadata": {},
     "output_type": "execute_result"
    }
   ],
   "source": [
    "results = query_results(auth_fail)\n",
    "results"
   ]
  },
  {
   "cell_type": "markdown",
   "id": "a0ca7fda",
   "metadata": {},
   "source": [
    "### 2.2 Investigating the User Identities with Authorization Failures\n",
    "As you know there are some failed access attempts, lets now look at the user identities with a lot of authorization failures."
   ]
  },
  {
   "cell_type": "code",
   "execution_count": 22,
   "id": "021ec598-5b8e-4ab2-9e9d-62bbc2822b3e",
   "metadata": {
    "tags": []
   },
   "outputs": [],
   "source": [
    "db_name = 'security_analysis'"
   ]
  },
  {
   "cell_type": "code",
   "execution_count": 23,
   "id": "2a7a2d3e",
   "metadata": {
    "tags": []
   },
   "outputs": [],
   "source": [
    "usr_auth_fail =f\"\"\"\n",
    "\n",
    "select userIdentity.arn, count(*) as total\n",
    "from \"{db_name}\".\"cloudtrail\" \n",
    "where errorCode in ('Client.UnauthorizedOperation','Client.InvalidPermission.NotFound','Client.OperationNotPermitted','AccessDenied')\n",
    "and useridentity.arn like '%iam%'\n",
    "group by userIdentity.arn\n",
    "order by total desc\n",
    "\n",
    "\"\"\""
   ]
  },
  {
   "cell_type": "code",
   "execution_count": 24,
   "id": "9bf3324b",
   "metadata": {
    "tags": []
   },
   "outputs": [
    {
     "data": {
      "text/html": [
       "<style type=\"text/css\">\n",
       "#T_7e301 th {\n",
       "  text-align: center;\n",
       "}\n",
       "</style>\n",
       "<table id=\"T_7e301\">\n",
       "  <thead>\n",
       "    <tr>\n",
       "      <th class=\"blank level0\" >&nbsp;</th>\n",
       "      <th id=\"T_7e301_level0_col0\" class=\"col_heading level0 col0\" >arn</th>\n",
       "      <th id=\"T_7e301_level0_col1\" class=\"col_heading level0 col1\" >total</th>\n",
       "    </tr>\n",
       "  </thead>\n",
       "  <tbody>\n",
       "  </tbody>\n",
       "</table>\n"
      ],
      "text/plain": [
       "<pandas.io.formats.style.Styler at 0x7f94f072fa00>"
      ]
     },
     "execution_count": 24,
     "metadata": {},
     "output_type": "execute_result"
    }
   ],
   "source": [
    "results = query_results(usr_auth_fail)\n",
    "results"
   ]
  },
  {
   "cell_type": "markdown",
   "id": "f1630e83",
   "metadata": {},
   "source": [
    "### 2.3 Investigating an IAM User\n",
    "Now that you have identified the potential IAM entity which has been compromised, you should do further investigations to identify what the entity has been attemping to do."
   ]
  },
  {
   "cell_type": "code",
   "execution_count": null,
   "id": "514f5ee6-ed2e-4274-8ca0-86aa132bf08a",
   "metadata": {},
   "outputs": [],
   "source": []
  },
  {
   "cell_type": "code",
   "execution_count": 25,
   "id": "4155d75d",
   "metadata": {
    "tags": []
   },
   "outputs": [],
   "source": [
    "iam_usr =f\"\"\"\n",
    "\n",
    "select *\n",
    "from \"{db_name}\".\"cloudtrail\" \n",
    "where userIdentity.arn='insert ARN of IAM Credential from query in 2.2'\n",
    "limit 5\n",
    "\n",
    "\"\"\""
   ]
  },
  {
   "cell_type": "code",
   "execution_count": 26,
   "id": "41b6d3e2",
   "metadata": {
    "tags": []
   },
   "outputs": [
    {
     "data": {
      "text/html": [
       "<style type=\"text/css\">\n",
       "#T_afbcf th {\n",
       "  text-align: center;\n",
       "}\n",
       "</style>\n",
       "<table id=\"T_afbcf\">\n",
       "  <thead>\n",
       "    <tr>\n",
       "      <th class=\"blank level0\" >&nbsp;</th>\n",
       "      <th id=\"T_afbcf_level0_col0\" class=\"col_heading level0 col0\" >eventversion</th>\n",
       "      <th id=\"T_afbcf_level0_col1\" class=\"col_heading level0 col1\" >useridentity</th>\n",
       "      <th id=\"T_afbcf_level0_col2\" class=\"col_heading level0 col2\" >eventtime</th>\n",
       "      <th id=\"T_afbcf_level0_col3\" class=\"col_heading level0 col3\" >eventsource</th>\n",
       "      <th id=\"T_afbcf_level0_col4\" class=\"col_heading level0 col4\" >eventname</th>\n",
       "      <th id=\"T_afbcf_level0_col5\" class=\"col_heading level0 col5\" >awsregion</th>\n",
       "      <th id=\"T_afbcf_level0_col6\" class=\"col_heading level0 col6\" >sourceipaddress</th>\n",
       "      <th id=\"T_afbcf_level0_col7\" class=\"col_heading level0 col7\" >useragent</th>\n",
       "      <th id=\"T_afbcf_level0_col8\" class=\"col_heading level0 col8\" >errorcode</th>\n",
       "      <th id=\"T_afbcf_level0_col9\" class=\"col_heading level0 col9\" >errormessage</th>\n",
       "      <th id=\"T_afbcf_level0_col10\" class=\"col_heading level0 col10\" >requestparameters</th>\n",
       "      <th id=\"T_afbcf_level0_col11\" class=\"col_heading level0 col11\" >responseelements</th>\n",
       "      <th id=\"T_afbcf_level0_col12\" class=\"col_heading level0 col12\" >additionaleventdata</th>\n",
       "      <th id=\"T_afbcf_level0_col13\" class=\"col_heading level0 col13\" >requestid</th>\n",
       "      <th id=\"T_afbcf_level0_col14\" class=\"col_heading level0 col14\" >eventid</th>\n",
       "      <th id=\"T_afbcf_level0_col15\" class=\"col_heading level0 col15\" >resources</th>\n",
       "      <th id=\"T_afbcf_level0_col16\" class=\"col_heading level0 col16\" >eventtype</th>\n",
       "      <th id=\"T_afbcf_level0_col17\" class=\"col_heading level0 col17\" >apiversion</th>\n",
       "      <th id=\"T_afbcf_level0_col18\" class=\"col_heading level0 col18\" >readonly</th>\n",
       "      <th id=\"T_afbcf_level0_col19\" class=\"col_heading level0 col19\" >recipientaccountid</th>\n",
       "      <th id=\"T_afbcf_level0_col20\" class=\"col_heading level0 col20\" >serviceeventdetails</th>\n",
       "      <th id=\"T_afbcf_level0_col21\" class=\"col_heading level0 col21\" >sharedeventid</th>\n",
       "      <th id=\"T_afbcf_level0_col22\" class=\"col_heading level0 col22\" >vpcendpointid</th>\n",
       "      <th id=\"T_afbcf_level0_col23\" class=\"col_heading level0 col23\" >date_partition</th>\n",
       "      <th id=\"T_afbcf_level0_col24\" class=\"col_heading level0 col24\" >region_partition</th>\n",
       "      <th id=\"T_afbcf_level0_col25\" class=\"col_heading level0 col25\" >account_partition</th>\n",
       "    </tr>\n",
       "  </thead>\n",
       "  <tbody>\n",
       "  </tbody>\n",
       "</table>\n"
      ],
      "text/plain": [
       "<pandas.io.formats.style.Styler at 0x7f94ebaa4d60>"
      ]
     },
     "execution_count": 26,
     "metadata": {},
     "output_type": "execute_result"
    }
   ],
   "source": [
    "results = query_results(iam_usr)\n",
    "results"
   ]
  },
  {
   "cell_type": "markdown",
   "id": "a6fa5ce6",
   "metadata": {},
   "source": [
    "### 2.4 Investigation the AWS services Used by the Suspicious Identity\n",
    "Now that you have identified the potential IAM entity which has been compromised, you should do further investigations to identify what services the suspicious identity has been attempting to use."
   ]
  },
  {
   "cell_type": "code",
   "execution_count": 27,
   "id": "a2141a25",
   "metadata": {
    "tags": []
   },
   "outputs": [],
   "source": [
    "services_used =f\"\"\"\n",
    "\n",
    "select eventSource, count(*) as total\n",
    "from \"{db_name}\".\"cloudtrail\" \n",
    "where userIdentity.arn='insert ARN of IAM Credential from query in 2.2'\n",
    "group by eventSource\n",
    "order by total desc\n",
    "\n",
    "\"\"\""
   ]
  },
  {
   "cell_type": "code",
   "execution_count": 28,
   "id": "a22c14e3",
   "metadata": {
    "tags": []
   },
   "outputs": [
    {
     "data": {
      "text/html": [
       "<style type=\"text/css\">\n",
       "#T_34efe th {\n",
       "  text-align: center;\n",
       "}\n",
       "</style>\n",
       "<table id=\"T_34efe\">\n",
       "  <thead>\n",
       "    <tr>\n",
       "      <th class=\"blank level0\" >&nbsp;</th>\n",
       "      <th id=\"T_34efe_level0_col0\" class=\"col_heading level0 col0\" >eventSource</th>\n",
       "      <th id=\"T_34efe_level0_col1\" class=\"col_heading level0 col1\" >total</th>\n",
       "    </tr>\n",
       "  </thead>\n",
       "  <tbody>\n",
       "  </tbody>\n",
       "</table>\n"
      ],
      "text/plain": [
       "<pandas.io.formats.style.Styler at 0x7f951dabf2b0>"
      ]
     },
     "execution_count": 28,
     "metadata": {},
     "output_type": "execute_result"
    }
   ],
   "source": [
    "results = query_results(services_used)\n",
    "results"
   ]
  },
  {
   "cell_type": "markdown",
   "id": "f8e43855",
   "metadata": {},
   "source": [
    "### 2.5 Investigation the Action Attempted by the Suspicious Identity\n",
    "Now that you have identified the potential IAM entity which has been compromised, you should do further investigations to identify what action the suspicious identity has been attempting to take."
   ]
  },
  {
   "cell_type": "code",
   "execution_count": 29,
   "id": "7deddba8",
   "metadata": {
    "tags": []
   },
   "outputs": [],
   "source": [
    "act_attempt = f'''\n",
    "select eventName, count(*) as total\n",
    "from \"{db_name}\".\"cloudtrail\" \n",
    "where userIdentity.arn='insert ARN of IAM Credential from query in 2.2'\n",
    "group by eventName\n",
    "order by total desc\n",
    "'''"
   ]
  },
  {
   "cell_type": "code",
   "execution_count": 30,
   "id": "ca23e3ce",
   "metadata": {
    "tags": []
   },
   "outputs": [
    {
     "data": {
      "text/html": [
       "<style type=\"text/css\">\n",
       "#T_dad4e th {\n",
       "  text-align: center;\n",
       "}\n",
       "</style>\n",
       "<table id=\"T_dad4e\">\n",
       "  <thead>\n",
       "    <tr>\n",
       "      <th class=\"blank level0\" >&nbsp;</th>\n",
       "      <th id=\"T_dad4e_level0_col0\" class=\"col_heading level0 col0\" >eventName</th>\n",
       "      <th id=\"T_dad4e_level0_col1\" class=\"col_heading level0 col1\" >total</th>\n",
       "    </tr>\n",
       "  </thead>\n",
       "  <tbody>\n",
       "  </tbody>\n",
       "</table>\n"
      ],
      "text/plain": [
       "<pandas.io.formats.style.Styler at 0x7f94f0c20280>"
      ]
     },
     "execution_count": 30,
     "metadata": {},
     "output_type": "execute_result"
    }
   ],
   "source": [
    "results = query_results(act_attempt)\n",
    "results"
   ]
  },
  {
   "cell_type": "markdown",
   "id": "fc8b89ea",
   "metadata": {},
   "source": [
    "### 2.6 Bringing it all together\n",
    "Bring together the previous queries to create a single query showing the event name, AWS service, and AWS region where requests were being made to by the compromised IAM entity."
   ]
  },
  {
   "cell_type": "code",
   "execution_count": 31,
   "id": "81201658",
   "metadata": {
    "tags": []
   },
   "outputs": [],
   "source": [
    "service_apicalls_time = f'''\n",
    "\n",
    "select eventTime, eventSource, eventName, awsregion, count(*) AS total \n",
    "from \"{db_name}\".\"cloudtrail\" \n",
    "where userIdentity.arn='insert ARN of IAM Credential from query in 2.2'\n",
    "group by eventName, eventSource, eventTime, awsregion\n",
    "order by eventTime DESC\n",
    "\n",
    "'''"
   ]
  },
  {
   "cell_type": "code",
   "execution_count": 32,
   "id": "6c5d4b5d",
   "metadata": {
    "tags": []
   },
   "outputs": [
    {
     "data": {
      "text/html": [
       "<style type=\"text/css\">\n",
       "#T_a005f th {\n",
       "  text-align: center;\n",
       "}\n",
       "</style>\n",
       "<table id=\"T_a005f\">\n",
       "  <thead>\n",
       "    <tr>\n",
       "      <th class=\"blank level0\" >&nbsp;</th>\n",
       "      <th id=\"T_a005f_level0_col0\" class=\"col_heading level0 col0\" >eventTime</th>\n",
       "      <th id=\"T_a005f_level0_col1\" class=\"col_heading level0 col1\" >eventSource</th>\n",
       "      <th id=\"T_a005f_level0_col2\" class=\"col_heading level0 col2\" >eventName</th>\n",
       "      <th id=\"T_a005f_level0_col3\" class=\"col_heading level0 col3\" >awsregion</th>\n",
       "      <th id=\"T_a005f_level0_col4\" class=\"col_heading level0 col4\" >total</th>\n",
       "    </tr>\n",
       "  </thead>\n",
       "  <tbody>\n",
       "  </tbody>\n",
       "</table>\n"
      ],
      "text/plain": [
       "<pandas.io.formats.style.Styler at 0x7f94f0d7ad40>"
      ]
     },
     "execution_count": 32,
     "metadata": {},
     "output_type": "execute_result"
    }
   ],
   "source": [
    "results = query_results(service_apicalls_time)\n",
    "results"
   ]
  },
  {
   "cell_type": "markdown",
   "id": "793f45e6",
   "metadata": {},
   "source": [
    "### Title of the query\n",
    "Insert description about the purpose and expected output of the query"
   ]
  },
  {
   "cell_type": "code",
   "execution_count": null,
   "id": "5ea227ad",
   "metadata": {},
   "outputs": [],
   "source": [
    "query = '''\n",
    "\n",
    "'''"
   ]
  },
  {
   "cell_type": "code",
   "execution_count": null,
   "id": "30c69a1a",
   "metadata": {},
   "outputs": [],
   "source": [
    "results = query_results(query)\n",
    "results"
   ]
  },
  {
   "cell_type": "markdown",
   "id": "7005432a",
   "metadata": {},
   "source": [
    "## 3. IAM Containment\n",
    "Now that you have identified the potential IAM entity which has been compromised you need to perform containment activities. The first of these will be to find out what the Access Key ID is being used by the account.\n"
   ]
  },
  {
   "cell_type": "markdown",
   "id": "48b1bde6",
   "metadata": {},
   "source": [
    "### 3.1 Identify Access Key ID"
   ]
  },
  {
   "cell_type": "code",
   "execution_count": null,
   "id": "251269e2",
   "metadata": {},
   "outputs": [],
   "source": [
    "sql = f'''\n",
    "\n",
    "select useridentity.accesskeyid, count(*) as total\n",
    "from \"{db_name}\".\"cloudtrail\" \n",
    "where userIdentity.arn='insert ARN of IAM Credential from query in 2.2'\n",
    "group by useridentity.accesskeyid\n",
    "order by total desc\n",
    "\n",
    "'''"
   ]
  },
  {
   "cell_type": "code",
   "execution_count": null,
   "id": "f076dbb3",
   "metadata": {},
   "outputs": [],
   "source": [
    "results = query_results(sql)\n",
    "results"
   ]
  },
  {
   "cell_type": "markdown",
   "id": "18fc0d0e",
   "metadata": {},
   "source": [
    "### 3.2 Deactivate Access Key"
   ]
  },
  {
   "cell_type": "code",
   "execution_count": null,
   "id": "b7c2b6d8",
   "metadata": {},
   "outputs": [],
   "source": [
    "access_key_to_deactivate='ENTER ACCESS KEY ID HERE'\n",
    "username='ENTER USERNAME HERE'\n",
    "iam = boto3.resource('iam', region_name=region)\n",
    "access_key = iam.AccessKey(username,access_key_to_deactivate)\n",
    "response_status = access_key.deactivate()\n",
    "status_code = response_status['ResponseMetadata']['HTTPStatusCode']\n",
    "if status_code == 200:\n",
    "    print('Key Disabled Successfully')\n",
    "else:\n",
    "    print('Key deactivation failed')"
   ]
  },
  {
   "cell_type": "markdown",
   "id": "8d8f0c1d",
   "metadata": {},
   "source": [
    "### 3.3 Attach Deny All Actions Policy"
   ]
  },
  {
   "cell_type": "code",
   "execution_count": null,
   "id": "1084109d",
   "metadata": {},
   "outputs": [],
   "source": [
    "username='ENTER USERNAME HERE'\n",
    "iam = boto3.client('iam', region_name=region)\n",
    "response = iam.put_user_policy(UserName=username,PolicyName='Block',PolicyDocument='{\"Version\":\"2012-10-17\",\"Statement\":{\"Effect\":\"Deny\",\"Action\":\"*\",\"Resource\":\"*\"}}')\n",
    "status_code = response['ResponseMetadata']['HTTPStatusCode']\n",
    "if status_code == 200:\n",
    "    print('Policy attached successfully')\n",
    "else:\n",
    "    print('Policy attachment failed')\n"
   ]
  }
 ],
 "metadata": {
  "kernelspec": {
   "display_name": "conda_python3",
   "language": "python",
   "name": "conda_python3"
  },
  "language_info": {
   "codemirror_mode": {
    "name": "ipython",
    "version": 3
   },
   "file_extension": ".py",
   "mimetype": "text/x-python",
   "name": "python",
   "nbconvert_exporter": "python",
   "pygments_lexer": "ipython3",
   "version": "3.10.8"
  }
 },
 "nbformat": 4,
 "nbformat_minor": 5
}
