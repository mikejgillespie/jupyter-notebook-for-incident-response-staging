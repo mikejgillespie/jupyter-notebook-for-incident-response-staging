{
 "cells": [
  {
   "cell_type": "markdown",
   "id": "a9da870f-4d05-4fdf-9016-4e6964211dad",
   "metadata": {},
   "source": [
    "# Simulate a credential event"
   ]
  },
  {
   "cell_type": "code",
   "execution_count": null,
   "id": "b7098465-bd2a-4894-8416-b001f690a793",
   "metadata": {
    "tags": []
   },
   "outputs": [],
   "source": [
    "from jupyterirtools import jupyterauth, athena\n",
    "import credentialcompromise"
   ]
  },
  {
   "cell_type": "markdown",
   "id": "2c68ed64-2816-4bab-a853-8e2a72b87543",
   "metadata": {},
   "source": [
    "## Simulate the event"
   ]
  },
  {
   "cell_type": "code",
   "execution_count": null,
   "id": "fcf218f1-6cf9-4a34-9b64-ee032e9f1f51",
   "metadata": {
    "tags": []
   },
   "outputs": [],
   "source": [
    "\n",
    "credentialcompromise.simulate()"
   ]
  },
  {
   "cell_type": "markdown",
   "id": "6a4f5a8b-c331-4445-9864-253c039cbc33",
   "metadata": {
    "tags": []
   },
   "source": [
    "## Do the remediation\n",
    "\n",
    "Perform the remediation outlined in the notebook."
   ]
  },
  {
   "cell_type": "markdown",
   "id": "b345b225-62b6-455a-9c61-11e22037db08",
   "metadata": {},
   "source": [
    "## Clean up"
   ]
  },
  {
   "cell_type": "code",
   "execution_count": null,
   "id": "1dd3b5c8-3129-4ed8-b765-dc736360ea5f",
   "metadata": {
    "tags": []
   },
   "outputs": [],
   "source": [
    "credentialcompromise.cleanup()"
   ]
  },
  {
   "cell_type": "code",
   "execution_count": null,
   "id": "daa919a0-1337-4aef-80c0-581a972d2c56",
   "metadata": {},
   "outputs": [],
   "source": []
  }
 ],
 "metadata": {
  "kernelspec": {
   "display_name": "conda_python3",
   "language": "python",
   "name": "conda_python3"
  },
  "language_info": {
   "codemirror_mode": {
    "name": "ipython",
    "version": 3
   },
   "file_extension": ".py",
   "mimetype": "text/x-python",
   "name": "python",
   "nbconvert_exporter": "python",
   "pygments_lexer": "ipython3",
   "version": "3.10.8"
  }
 },
 "nbformat": 4,
 "nbformat_minor": 5
}
