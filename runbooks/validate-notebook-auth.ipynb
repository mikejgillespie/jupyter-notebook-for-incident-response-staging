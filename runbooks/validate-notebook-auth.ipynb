{
 "cells": [
  {
   "cell_type": "markdown",
   "id": "f1455727",
   "metadata": {
    "tags": []
   },
   "source": [
    "# Validate Notebook Authentication\n",
    "\n",
    "This notebook will test the authorization of the notebooks running in this library.\n",
    "\n",
    "By including the `jupyterauth` module, the notebook will initialize the authorization of the notebooks. \n",
    "* For instance profile / machine configurations, the role details are displayed to the screen.\n",
    "* For SSO configurations, the AWS SSO login will appear asking the user to grant access to the session.\n",
    "* For role assumption, the default profile is set\n"
   ]
  },
  {
   "cell_type": "code",
   "execution_count": null,
   "id": "3fd8ae0b",
   "metadata": {
    "tags": []
   },
   "outputs": [],
   "source": [
    "import boto3, os\n",
    "from jupyterawstools import jupyterauth\n"
   ]
  },
  {
   "cell_type": "markdown",
   "id": "1713d267-57a4-4e4f-b8ad-86005f444cc5",
   "metadata": {},
   "source": [
    "The next cell will check all the configured permissions for this notebook. If the environment is configured for multiaccount via role assumption or sso, this will check each of the connections. "
   ]
  },
  {
   "cell_type": "code",
   "execution_count": null,
   "id": "90c24d27",
   "metadata": {
    "tags": []
   },
   "outputs": [],
   "source": [
    "jupyterauth.check_permissions()"
   ]
  },
  {
   "cell_type": "markdown",
   "id": "1cafde6c-3224-4aef-a8a1-0f5a9f874edb",
   "metadata": {},
   "source": [
    "This demonstrates how to use the `jupyterauth` module to iterate all the accounts and execute a boto command against every account. Here it is simply getting caller identity on each account."
   ]
  },
  {
   "cell_type": "code",
   "execution_count": null,
   "id": "7f41549e-b692-4d25-9724-b637519d1342",
   "metadata": {
    "tags": []
   },
   "outputs": [],
   "source": [
    "for session, account in jupyterauth.get_session_by_account():\n",
    "    sts = session.client('sts')\n",
    "    identity = sts.get_caller_identity()\n",
    "    print(f'Account: {account} User: {identity[\"UserId\"]}')"
   ]
  },
  {
   "cell_type": "markdown",
   "id": "cae88a67-fb4e-4d18-a541-280a808a5823",
   "metadata": {},
   "source": [
    "The default session is configured based on the environment variables."
   ]
  },
  {
   "cell_type": "code",
   "execution_count": null,
   "id": "30589249",
   "metadata": {
    "tags": []
   },
   "outputs": [],
   "source": [
    "boto3.setup_default_session()\n",
    "sts = boto3.client('sts')\n",
    "identity = sts.get_caller_identity()\n",
    "print(f\"UserId: {identity['UserId']}\\nAccount: {identity['Account']}\\n\")"
   ]
  },
  {
   "cell_type": "code",
   "execution_count": null,
   "id": "de9978b1",
   "metadata": {},
   "outputs": [],
   "source": [
    "session =jupyterauth.get_session()\n",
    "sts = session.client('sts')\n",
    "identity = sts.get_caller_identity()\n",
    "print(f\"UserId: {identity['UserId']}\\nAccount: {identity['Account']}\\n\")"
   ]
  },
  {
   "cell_type": "markdown",
   "id": "1b77372e-ad91-40ac-837c-bcfa7afad650",
   "metadata": {},
   "source": [
    "Works with CLI commands too."
   ]
  },
  {
   "cell_type": "code",
   "execution_count": null,
   "id": "1f98c66b",
   "metadata": {},
   "outputs": [],
   "source": [
    "! aws sts get-caller-identity\n"
   ]
  },
  {
   "cell_type": "code",
   "execution_count": null,
   "id": "5cb163f5",
   "metadata": {},
   "outputs": [],
   "source": [
    "jupyterauth.logout()"
   ]
  },
  {
   "cell_type": "markdown",
   "id": "5bb99969",
   "metadata": {},
   "source": []
  }
 ],
 "metadata": {
  "kernelspec": {
   "display_name": "conda_python3",
   "language": "python",
   "name": "conda_python3"
  },
  "language_info": {
   "codemirror_mode": {
    "name": "ipython",
    "version": 3
   },
   "file_extension": ".py",
   "mimetype": "text/x-python",
   "name": "python",
   "nbconvert_exporter": "python",
   "pygments_lexer": "ipython3",
   "version": "3.10.8"
  }
 },
 "nbformat": 4,
 "nbformat_minor": 5
}
